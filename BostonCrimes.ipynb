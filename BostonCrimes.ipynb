{
 "cells": [
  {
   "cell_type": "code",
   "execution_count": null,
   "metadata": {},
   "outputs": [],
   "source": [
    "from pyspark.sql import SparkSession\n",
    "from pyspark.sql.types import *\n",
    "\n",
    "crimes_schema = StructType([StructField(\"INCIDENT_NUMBER\", StringType(), True),\n",
    "                            StructField(\"OFFENSE_CODE\", StringType(), True),\n",
    "                            StructField(\"OFFENSE_CODE_GROUP\", StringType(), True),\n",
    "                            StructField(\"OFFENSE_DESCRIPTION\", StringType(), True),\n",
    "                            StructField(\"DISTRICT\", StringType(), True),\n",
    "                            StructField(\"REPORTING_AREA\", StringType(), True),\n",
    "                            StructField(\"SHOOTING\", StringType(), True),\n",
    "                            StructField(\"OCCURRED_ON_DATE\", TimestampType(), True),\n",
    "                            StructField(\"YEAR\", IntegerType(), True),\n",
    "                            StructField(\"MONTH\", IntegerType(), True),\n",
    "                            StructField(\"DAY_OF_WEEK\", StringType(), True),\n",
    "                            StructField(\"HOUR\", IntegerType(), True),\n",
    "                            StructField(\"UCR_PART\",StringType(), True),\n",
    "                            StructField(\"STREET\", StringType(), True),\n",
    "                            StructField(\"Lat\", StringType(), True),\n",
    "                            StructField(\"Long\", StringType(), True),\n",
    "                            StructField(\"Location\", StringType(), True)])\n",
    "\n",
    "spark = SparkSession.builder.appName(\"Crimes in boston\").getOrCreate()\n",
    "\n",
    "crimes = spark.read.csv(\"./data/BostenCrime2.csv\", header = True, schema = crimes_schema)"
   ]
  },
  {
   "cell_type": "code",
   "execution_count": null,
   "metadata": {},
   "outputs": [],
   "source": [
    "crimes"
   ]
  },
  {
   "cell_type": "code",
   "execution_count": null,
   "metadata": {},
   "outputs": [],
   "source": [
    "crimes.select(\"MONTH\").distinct().orderBy(\"MONTH\").show(12)"
   ]
  },
  {
   "cell_type": "markdown",
   "metadata": {},
   "source": [
    "## Hourly based monthly data"
   ]
  },
  {
   "cell_type": "code",
   "execution_count": null,
   "metadata": {},
   "outputs": [],
   "source": [
    "%matplotlib inline\n",
    "import matplotlib.pyplot as plt\n",
    "\n",
    "def show_crime_per_hour_perMonth(hour):\n",
    "\n",
    "    x_axis = [i+1 for i in range(11)]\n",
    "    y_axis = []\n",
    "    \n",
    "    result = crimes.filter(\"HOUR=\"+hour).groupBy(\"MONTH\").count().orderBy(\"MONTH\")\n",
    "    data = result.take(12)\n",
    "    for i in range(1, 12):\n",
    "        y_axis.append(data[i-1][1])\n",
    "\n",
    "    fig1 = plt.figure(figsize=(7, 7))\n",
    "    fig1.suptitle('Crimes per month per within a hour', fontsize=14)\n",
    "    ax = fig1.add_subplot(111)\n",
    "    ax.set_xlabel('month')\n",
    "    ax.set_ylabel('Crime')\n",
    "    ax.bar(x_axis, y_axis, fc='darksalmon', align='center')\n",
    "    plt.show()\n",
    "    \n",
    "    return"
   ]
  },
  {
   "cell_type": "code",
   "execution_count": null,
   "metadata": {},
   "outputs": [],
   "source": [
    "from IPython.display import HTML\n",
    "\n",
    "time = '12'\n",
    "\n",
    "form = \"\"\"\n",
    "<div style='background-color:gainsboro; border:solid black; width:300px; padding:20px;'>\n",
    "Hour : <input id='hour' type='range' min='0' max='23' step='1' value='12' onchange='set_vars()'/>\n",
    "</div>\"\"\"\n",
    "\n",
    "javascript = \"\"\"\n",
    "<script type=\"text/Javascript\">\n",
    "    const kernelCell = 5;\n",
    "\n",
    "    function set_vars(){\n",
    "        var time = document.getElementById('hour').value;\n",
    "        var kernel = IPython.notebook.kernel;\n",
    "        \n",
    "        kernel.execute('time = \"' + time + '\"');\n",
    "        cell = IPython.notebook.get_cell(kernelCell);\n",
    "        cell.execute();\n",
    "        cell.focus_cell(kernelCell);\n",
    "    }\n",
    "</script>\n",
    "\"\"\"\n",
    "\n",
    "HTML(form + javascript)"
   ]
  },
  {
   "cell_type": "code",
   "execution_count": null,
   "metadata": {
    "scrolled": false
   },
   "outputs": [],
   "source": [
    "print('Time: ' + str(time))\n",
    "show_crime_per_hour_perMonth(time)"
   ]
  },
  {
   "cell_type": "code",
   "execution_count": null,
   "metadata": {},
   "outputs": [],
   "source": [
    "from datetime import datetime\n",
    "from pyspark.sql.functions import col,udf\n",
    "myfunc =  udf(lambda x: datetime.strptime(x, '%m/%d/%Y %I:%M:%S %p'), TimestampType())\n",
    "df =crimes.withColumn('OCCURRED_ON_DATE',myfunc(col('OCCURRED_ON_DATE'))).drop('OCCURRED_ON_DATE')\n",
    "\n",
    "\n",
    "#data = df.groupBy('Year').count().show()\n",
    "data = df.groupBy('Year').count().sort('Year').collect()\n",
    "count = [item[1] for item in data]\n",
    "year = [item[0] for item in data]\n",
    "data"
   ]
  },
  {
   "cell_type": "code",
   "execution_count": null,
   "metadata": {},
   "outputs": [],
   "source": [
    "x_axis = [i for i in year] \n",
    "y_axis= [i for i in count]\n",
    "\n",
    "\n",
    "\n",
    "fig1 = plt.figure(figsize=(8, 8))\n",
    " \n",
    "plt.xlabel(\"Year\", fontsize = 18)\n",
    "plt.ylabel(\"Number of Crimes\", fontsize = 18)\n",
    "plt.title(\"Number of Crimes Per Year\", fontsize = 28)\n",
    "plt.bar(x_axis, y_axis, fc='darksalmon', align='center',alpha=0.5)\n",
    "plt.xticks(size = 18)\n",
    "plt.yticks(size = 18)\n",
    "plt.show()"
   ]
  },
  {
   "cell_type": "code",
   "execution_count": null,
   "metadata": {},
   "outputs": [],
   "source": [
    "crime_location  = crimes.groupBy(\"STREET\").count().sort('count', ascending  = False).limit(20).collect()\n",
    "crime_location"
   ]
  },
  {
   "cell_type": "code",
   "execution_count": null,
   "metadata": {},
   "outputs": [],
   "source": [
    "location = [item[0] for item in crime_location]\n",
    "count = [item[1] for item in crime_location]\n",
    "location"
   ]
  },
  {
   "cell_type": "code",
   "execution_count": null,
   "metadata": {
    "scrolled": false
   },
   "outputs": [],
   "source": [
    "x_axis = [str(i) for i in location]\n",
    "y_axis = [i for i in count]\n",
    "\n",
    "fig = plt.figure(figsize=(20,20))\n",
    "#fig.suptitle('Number of Crimes Per year per location', fontsize=36)\n",
    "\n",
    "plt.title(\"Number of crimes per year per location\", fontsize=36)\n",
    "plt.xlabel(\"Number of Crimes\", fontsize = 28)\n",
    "plt.ylabel(\"Crime Location\", fontsize = 28)\n",
    "plt.barh(x_axis,y_axis,color = \"darksalmon\")\n",
    "plt.xticks(size = 24)\n",
    "plt.yticks(size = 24)\n",
    "plt.show()"
   ]
  },
  {
   "cell_type": "code",
   "execution_count": null,
   "metadata": {},
   "outputs": [],
   "source": [
    "crime_latitude  = crimes.groupBy(\"Lat\").count().sort('count', ascending  = False).limit(20).collect()\n",
    "crime_longitude  = crimes.groupBy(\"Long\").count().sort('count', ascending  = False).limit(20).collect()\n",
    "crime_coordinates = [crime_latitude,crime_longitude]\n"
   ]
  },
  {
   "cell_type": "code",
   "execution_count": null,
   "metadata": {
    "scrolled": true
   },
   "outputs": [],
   "source": [
    "crime_latitude"
   ]
  },
  {
   "cell_type": "code",
   "execution_count": null,
   "metadata": {},
   "outputs": [],
   "source": [
    "crime_longitude"
   ]
  },
  {
   "cell_type": "code",
   "execution_count": null,
   "metadata": {},
   "outputs": [],
   "source": [
    "location_lat = [i for i in crime_latitude]\n",
    "location_long = [i for i in crime_longitude]\n",
    "location_count = [item[1] for item in crime_coordinates]\n",
    "\n",
    "location_lat"
   ]
  },
  {
   "cell_type": "code",
   "execution_count": null,
   "metadata": {},
   "outputs": [],
   "source": []
  }
 ],
 "metadata": {
  "kernelspec": {
   "display_name": "Python 3",
   "language": "python",
   "name": "python3"
  },
  "language_info": {
   "codemirror_mode": {
    "name": "ipython",
    "version": 3
   },
   "file_extension": ".py",
   "mimetype": "text/x-python",
   "name": "python",
   "nbconvert_exporter": "python",
   "pygments_lexer": "ipython3",
   "version": "3.7.3"
  }
 },
 "nbformat": 4,
 "nbformat_minor": 2
}
