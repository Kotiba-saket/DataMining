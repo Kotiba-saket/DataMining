{
 "cells": [
  {
   "cell_type": "code",
   "execution_count": null,
   "metadata": {},
   "outputs": [],
   "source": [
    "from pyspark.sql import SparkSession\n",
    "from pyspark.sql.types import *\n",
    "\n",
    "crimes_schema = StructType([StructField(\"INCIDENT_NUMBER\", StringType(), True),\n",
    "                            StructField(\"OFFENSE_CODE\", StringType(), True),\n",
    "                            StructField(\"OFFENSE_CODE_GROUP\", StringType(), True),\n",
    "                            StructField(\"OFFENSE_DESCRIPTION\", StringType(), True),\n",
    "                            StructField(\"DISTRICT\", StringType(), True),\n",
    "                            StructField(\"REPORTING_AREA\", StringType(), True),\n",
    "                            StructField(\"SHOOTING\", StringType(), True),\n",
    "                            StructField(\"OCCURRED_ON_DATE\", TimestampType(), True),\n",
    "                            StructField(\"YEAR\", IntegerType(), True),\n",
    "                            StructField(\"MONTH\", IntegerType(), True),\n",
    "                            StructField(\"DAY_OF_WEEK\", StringType(), True),\n",
    "                            StructField(\"HOUR\", IntegerType(), True),\n",
    "                            StructField(\"UCR_PART\",StringType(), True),\n",
    "                            StructField(\"STREET\", StringType(), True),\n",
    "                            StructField(\"Lat\", StringType(), True),\n",
    "                            StructField(\"Long\", StringType(), True),\n",
    "                            StructField(\"Location\", StringType(), True)])\n",
    "\n",
    "spark = SparkSession.builder.appName(\"Crimes in boston\").getOrCreate()\n",
    "\n",
    "crimes = spark.read.csv(\"./data/BostenCrime.csv\", header = True, schema = crimes_schema)"
   ]
  },
  {
   "cell_type": "code",
   "execution_count": null,
   "metadata": {},
   "outputs": [],
   "source": [
    "crimes"
   ]
  },
  {
   "cell_type": "code",
   "execution_count": null,
   "metadata": {},
   "outputs": [],
   "source": [
    "crimes.select(\"OCCURRED_ON_DATE\").show(10)"
   ]
  },
  {
   "cell_type": "code",
   "execution_count": null,
   "metadata": {},
   "outputs": [],
   "source": []
  }
 ],
 "metadata": {
  "kernelspec": {
   "display_name": "Python 3",
   "language": "python",
   "name": "python3"
  },
  "language_info": {
   "codemirror_mode": {
    "name": "ipython",
    "version": 2
   },
   "file_extension": ".py",
   "mimetype": "text/x-python",
   "name": "python",
   "nbconvert_exporter": "python",
   "pygments_lexer": "ipython2",
   "version": "2.7.15+"
  }
 },
 "nbformat": 4,
 "nbformat_minor": 2
}
