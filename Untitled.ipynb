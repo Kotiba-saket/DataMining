{
 "cells": [
  {
   "cell_type": "code",
   "execution_count": 1,
   "metadata": {},
   "outputs": [],
   "source": [
    "# https://data.boston.gov/dataset/crime-incident-reports-july-2012-august-2015-source-legacy-system\n",
    "# https://data.boston.gov/dataset/crime-incident-reports-august-2015-to-date-source-new-system\n",
    "\n",
    "## Load both the old and new crime reporting systems\n",
    "\n",
    "from pyspark.sql import SQLContext\n",
    "from pyspark.sql import SparkSession\n",
    "from pyspark.sql.types import *\n",
    "\n",
    "crimes_old_schema = StructType([StructField(\"COMPNOS\", StringType(), True),\n",
    "                            StructField(\"NatureCode\", StringType(), True),\n",
    "                            StructField(\"INCIDENT_TYPE_DESCRIPTION\", StringType(), True),\n",
    "                            StructField(\"MAIN_CRIMECODE\", StringType(), True),\n",
    "                            StructField(\"REPTDISTRICT\", StringType(), True),\n",
    "                            StructField(\"REPORTINGAREA\", StringType(), True),\n",
    "                            StructField(\"FROMDATE\", StringType(), True),\n",
    "                            StructField(\"WEAPONTYPE\", StringType(), True),\n",
    "                            StructField(\"Shooting\", StringType(), True),\n",
    "                            StructField(\"DOMESTIC\", StringType(), True),\n",
    "                            StructField(\"SHIFT\", StringType(), True),\n",
    "                            StructField(\"Year\", StringType(), True),\n",
    "                            StructField(\"Month\", IntegerType(), True),\n",
    "                            StructField(\"DAY_WEEK\", StringType(), True),\n",
    "                            StructField(\"UCRPART\", StringType(), True),\n",
    "                            StructField(\"X\", StringType(), True),\n",
    "                            StructField(\"Y\", StringType(), True),\n",
    "                            StructField(\"STREETNAME\", StringType(), True),\n",
    "                            StructField(\"XSTREETNAME\", StringType(), True),\n",
    "                            StructField(\"Location\", StringType(), True)\n",
    "])\n",
    "\n",
    "crimes_schema = StructType([StructField(\"INCIDENT_NUMBER\", StringType(), True),\n",
    "                            StructField(\"OFFENSE_CODE\", StringType(), True),\n",
    "                            StructField(\"OFFENSE_CODE_GROUP\", StringType(), True),\n",
    "                            StructField(\"OFFENSE_DESCRIPTION\", StringType(), True),\n",
    "                            StructField(\"DISTRICT\", StringType(), True),\n",
    "                            StructField(\"REPORTING_AREA\", StringType(), True),\n",
    "                            StructField(\"SHOOTING\", StringType(), True),\n",
    "                            StructField(\"OCCURRED_ON_DATE\", TimestampType(), True),\n",
    "                            StructField(\"YEAR\", IntegerType(), True),\n",
    "                            StructField(\"MONTH\", IntegerType(), True),\n",
    "                            StructField(\"DAY_OF_WEEK\", StringType(), True),\n",
    "                            StructField(\"HOUR\", IntegerType(), True),\n",
    "                            StructField(\"UCR_PART\",StringType(), True),\n",
    "                            StructField(\"STREET\", StringType(), True),\n",
    "                            StructField(\"Lat\", StringType(), True),\n",
    "                            StructField(\"Long\", StringType(), True),\n",
    "                            StructField(\"Location\", StringType(), True)])"
   ]
  },
  {
   "cell_type": "code",
   "execution_count": 2,
   "metadata": {},
   "outputs": [],
   "source": [
    "spark = SparkSession.builder \\\n",
    "    .master(\"local[*]\") \\\n",
    "    .config(\"spark.execute.memory\", \"1gb\") \\\n",
    "    .appName(\"Crimes in boston\") \\\n",
    "    .getOrCreate()\n",
    "\n",
    "crimes = spark.read.csv(\"./data/BostenCrime.csv\", header = True, schema = crimes_schema)\n",
    "crimes_old = spark.read.csv(\"./data/BostonCrimesOld.csv\", header = True, schema = crimes_old_schema)\n",
    "\n",
    "sc = spark.sparkContext\n",
    "sqlContext = SQLContext(sc)"
   ]
  },
  {
   "cell_type": "code",
   "execution_count": 3,
   "metadata": {},
   "outputs": [
    {
     "data": {
      "text/html": [
       "\n",
       "        <div>\n",
       "            <p><b>SparkContext</b></p>\n",
       "\n",
       "            <p><a href=\"http://10.246.15.62:4040\">Spark UI</a></p>\n",
       "\n",
       "            <dl>\n",
       "              <dt>Version</dt>\n",
       "                <dd><code>v2.4.4</code></dd>\n",
       "              <dt>Master</dt>\n",
       "                <dd><code>local[*]</code></dd>\n",
       "              <dt>AppName</dt>\n",
       "                <dd><code>Crimes in boston</code></dd>\n",
       "            </dl>\n",
       "        </div>\n",
       "        "
      ],
      "text/plain": [
       "<SparkContext master=local[*] appName=Crimes in boston>"
      ]
     },
     "execution_count": 3,
     "metadata": {},
     "output_type": "execute_result"
    }
   ],
   "source": [
    "sc"
   ]
  },
  {
   "cell_type": "code",
   "execution_count": 4,
   "metadata": {
    "scrolled": false
   },
   "outputs": [],
   "source": [
    "crimes.registerTempTable(\"table\")\n",
    "crimes_old.registerTempTable(\"test\")\n",
    "\n",
    "# Join them together\n",
    "all_boston_crimes = sqlContext.sql(\"\"\"\n",
    "               SELECT\n",
    "                   YEAR,\n",
    "                   MONTH,\n",
    "                   STREET,\n",
    "                   DISTRICT,\n",
    "                   OFFENSE_DESCRIPTION,\n",
    "                   Location\n",
    "                FROM table\n",
    "                UNION\n",
    "                SELECT\n",
    "                    YEAR,\n",
    "                    MONTH,\n",
    "                    STREETNAME,\n",
    "                    REPTDISTRICT,\n",
    "                    INCIDENT_TYPE_DESCRIPTION,\n",
    "                    Location\n",
    "                FROM test\"\"\")"
   ]
  },
  {
   "cell_type": "code",
   "execution_count": 5,
   "metadata": {
    "scrolled": false
   },
   "outputs": [
    {
     "name": "stdout",
     "output_type": "stream",
     "text": [
      "+----+-----+----------------+--------+--------------------+--------------------+\n",
      "|YEAR|MONTH|          STREET|DISTRICT| OFFENSE_DESCRIPTION|            Location|\n",
      "+----+-----+----------------+--------+--------------------+--------------------+\n",
      "|2019|    9|      GOODALE RD|      B3|M/V ACCIDENT - PE...|(42.28362830, -71...|\n",
      "|2019|    9|   HYDE PARK AVE|     E18|THREATS TO DO BOD...|(42.27926700, -71...|\n",
      "|2019|    9|        RIVER ST|      B3|  INVESTIGATE PERSON|(42.27130225, -71...|\n",
      "|2019|    9|  COURTHOUSE WAY|      C6|  INVESTIGATE PERSON|(42.35404844, -71...|\n",
      "|2019|    9|       SCHOOL ST|      A1|SICK/INJURED/MEDI...|(0.00000000, 0.00...|\n",
      "|2019|    9|        JETTE CT|     D14|FIRE REPORT - HOU...|(42.34682750, -71...|\n",
      "|2019|    9|          OLD RD|      B3|      VERBAL DISPUTE|(42.30226502, -71...|\n",
      "|2019|    9|       SELDEN ST|      B3|LARCENY THEFT OF ...|(0.00000000, 0.00...|\n",
      "|2019|    9|   WASHINGTON ST|     C11|SICK/INJURED/MEDI...|(42.28962239, -71...|\n",
      "|2019|    9|COMMONWEALTH AVE|     D14|INVESTIGATE PROPERTY|(42.35073963, -71...|\n",
      "|2019|    9|  OLD COLONY AVE|      C6|ASSAULT SIMPLE - ...|(42.33132994, -71...|\n",
      "|2019|    9|      GENEVA AVE|     C11|M/V ACCIDENT - OTHER|(0.00000000, 0.00...|\n",
      "|2019|    9|        STATE ST|      A1|SERVICE TO OTHER ...|(42.35892253, -71...|\n",
      "|2019|    9|   BLUE HILL AVE|      B2|VAL - OPERATING W...|(42.31490506, -71...|\n",
      "|2019|    9|   WASHINGTON ST|      E5|      MISSING PERSON|(0.00000000, 0.00...|\n",
      "|2019|    9| PETERBOROUGH ST|      D4|      MISSING PERSON|(42.34339388, -71...|\n",
      "|2019|    9|       LESTON ST|      B3|ASSAULT SIMPLE - ...|(0.00000000, 0.00...|\n",
      "|2019|    9|            D ST|      C6|THREATS TO DO BOD...|(42.34454105, -71...|\n",
      "|2019|    9|     ALLERTON ST|      B2|PROSTITUTION - SO...|(42.32994932, -71...|\n",
      "|2019|    9|     LEGENDS WAY|      A1|  INVESTIGATE PERSON|(42.36643546, -71...|\n",
      "+----+-----+----------------+--------+--------------------+--------------------+\n",
      "only showing top 20 rows\n",
      "\n"
     ]
    }
   ],
   "source": [
    "all_boston_crimes.show()"
   ]
  },
  {
   "cell_type": "code",
   "execution_count": 6,
   "metadata": {
    "scrolled": false
   },
   "outputs": [],
   "source": [
    "yearCount = all_boston_crimes.groupBy(\"YEAR\").count().orderBy(\"YEAR\")#.groupBy(\"YEAR\").count().orderBy(\"YEAR\").show()"
   ]
  },
  {
   "cell_type": "raw",
   "metadata": {},
   "source": []
  },
  {
   "cell_type": "code",
   "execution_count": 7,
   "metadata": {},
   "outputs": [
    {
     "name": "stdout",
     "output_type": "stream",
     "text": [
      "+----+-----+\n",
      "|YEAR|count|\n",
      "+----+-----+\n",
      "|2012|38388|\n",
      "|2013|77318|\n",
      "|2014|77325|\n",
      "|2015|92201|\n",
      "|2016|88294|\n",
      "|2017|90685|\n",
      "|2018|89317|\n",
      "|2019|65694|\n",
      "+----+-----+\n",
      "\n"
     ]
    }
   ],
   "source": [
    "yearCount.show()"
   ]
  },
  {
   "cell_type": "code",
   "execution_count": 8,
   "metadata": {},
   "outputs": [
    {
     "data": {
      "image/png": "[encoded data removed]",
      "text/plain": [
       "<Figure size 504x504 with 1 Axes>"
      ]
     },
     "metadata": {
      "needs_background": "light"
     },
     "output_type": "display_data"
    }
   ],
   "source": [
    "%matplotlib inline\n",
    "import matplotlib.pyplot as plt\n",
    "\n",
    "size = 8\n",
    "\n",
    "x_axis = []\n",
    "y_axis = []\n",
    "\n",
    "data = yearCount.take(size)\n",
    "\n",
    "for i in range(0,size):\n",
    "    x_axis.append(data[i][0])\n",
    "    y_axis.append(data[i][1])\n",
    "\n",
    "fig1 = plt.figure(figsize=(7, 7))\n",
    "fig1.suptitle('Crimes per Year', fontsize=14)\n",
    "ax = fig1.add_subplot(111)\n",
    "ax.set_xlabel('Year')\n",
    "ax.set_ylabel('Crime')\n",
    "ax.bar(x_axis, y_axis, fc='darksalmon', align='center')\n",
    "plt.show()"
   ]
  },
  {
   "cell_type": "code",
   "execution_count": 9,
   "metadata": {},
   "outputs": [],
   "source": [
    "## Load in the income\n",
    "income_schema = StructType([StructField(\"ID\", IntegerType(), True),\n",
    "                           StructField(\"Year\", IntegerType(), True),\n",
    "                           StructField(\"Income\", IntegerType(), True),\n",
    "                           StructField(\"IncomeMoe\", StringType(), True),\n",
    "                           StructField(\"Geo\", StringType(), True),\n",
    "                           StructField(\"GeoId\", StringType(), True),\n",
    "                           StructField(\"SlugGeo\", StringType(), True)])\n",
    "\n",
    "spark = SparkSession.builder.appName(\"Income in boston\").getOrCreate()\n",
    "\n",
    "income = spark.read.csv(\"./data/BostonHouseholdIncome.csv\", header = True, schema = income_schema)"
   ]
  },
  {
   "cell_type": "code",
   "execution_count": 10,
   "metadata": {},
   "outputs": [],
   "source": [
    "## get only the boston house hold income\n",
    "income.registerTempTable(\"income\")\n",
    "\n",
    "BostonIncome = sqlContext.sql(\"SELECT * FROM income WHERE slugGeo LIKE 'boston%'\").groupBy(\"YEAR\").sum(\"Income\").orderBy(\"YEAR\")"
   ]
  },
  {
   "cell_type": "code",
   "execution_count": 11,
   "metadata": {},
   "outputs": [
    {
     "data": {
      "text/plain": [
       "[Row(YEAR=u'2013', count=77318),\n",
       " Row(YEAR=u'2014', count=77325),\n",
       " Row(YEAR=u'2015', count=92201),\n",
       " Row(YEAR=u'2016', count=88294),\n",
       " Row(YEAR=u'2017', count=90685),\n",
       " Row(YEAR=u'2018', count=89317)]"
      ]
     },
     "execution_count": 11,
     "metadata": {},
     "output_type": "execute_result"
    }
   ],
   "source": [
    "test = yearCount.filter('YEAR >= 2013 AND YEAR <= 2018').limit(6).collect()\n",
    "test"
   ]
  },
  {
   "cell_type": "code",
   "execution_count": 12,
   "metadata": {},
   "outputs": [],
   "source": [
    "import numpy as np\n",
    "\n",
    "x_axies = [i[0] for i in BostonIncome.select(\"sum(Income)\").limit(5).collect()]\n",
    "y_axies = [i[1] for i in yearCount.filter('YEAR >= 2013 AND YEAR <= 2018').orderBy(\"YEAR\").limit(5).collect()]\n",
    "\n",
    "data = [x_axies, y_axies]\n",
    "years = ['13','14','15','16','17']\n",
    "X = np.arange(len(years))"
   ]
  },
  {
   "cell_type": "code",
   "execution_count": 13,
   "metadata": {
    "scrolled": false
   },
   "outputs": [
    {
     "data": {
      "image/png": "[encoded data removed]",
      "text/plain": [
       "<Figure size 432x288 with 1 Axes>"
      ]
     },
     "metadata": {
      "needs_background": "light"
     },
     "output_type": "display_data"
    }
   ],
   "source": [
    "plt.bar(X+0.15, data[1], color = '#ff5252', width = 0.30, label = 'Crime')\n",
    "plt.bar(X-0.15, data[0], color = '#9dff52', width = 0.30, label = 'Income')\n",
    "\n",
    "ax = plt.gca()\n",
    "ax.legend(shadow=True)\n",
    "\n",
    "plt.show()"
   ]
  },
  {
   "cell_type": "code",
   "execution_count": 14,
   "metadata": {},
   "outputs": [
    {
     "data": {
      "text/plain": [
       "[[126490, 132569, 137063, 146001, 152449], [77318, 77325, 92201, 88294, 90685]]"
      ]
     },
     "execution_count": 14,
     "metadata": {},
     "output_type": "execute_result"
    }
   ],
   "source": [
    "data"
   ]
  },
  {
   "cell_type": "code",
   "execution_count": 15,
   "metadata": {},
   "outputs": [
    {
     "name": "stdout",
     "output_type": "stream",
     "text": [
      "+-----------+\n",
      "|sum(Income)|\n",
      "+-----------+\n",
      "|     126490|\n",
      "|     132569|\n",
      "|     137063|\n",
      "|     146001|\n",
      "|     152449|\n",
      "+-----------+\n",
      "\n"
     ]
    }
   ],
   "source": [
    "BostonIncome.select(\"sum(Income)\").show()"
   ]
  },
  {
   "cell_type": "code",
   "execution_count": null,
   "metadata": {},
   "outputs": [],
   "source": []
  }
 ],
 "metadata": {
  "kernelspec": {
   "display_name": "Python 3",
   "language": "python",
   "name": "python3"
  },
  "language_info": {
   "codemirror_mode": {
    "name": "ipython",
    "version": 2
   },
   "file_extension": ".py",
   "mimetype": "text/x-python",
   "name": "python",
   "nbconvert_exporter": "python",
   "pygments_lexer": "ipython2",
   "version": "2.7.15+"
  }
 },
 "nbformat": 4,
 "nbformat_minor": 2
}
