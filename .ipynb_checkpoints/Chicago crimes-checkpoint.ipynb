{
 "cells": [
  {
   "cell_type": "code",
   "execution_count": 5,
   "metadata": {},
   "outputs": [],
   "source": [
    "from pyspark.sql import SparkSession\n",
    "spark = SparkSession.builder.appName(\"Chicago_crime_analysis\").getOrCreate()"
   ]
  },
  {
   "cell_type": "code",
   "execution_count": 6,
   "metadata": {},
   "outputs": [
    {
     "data": {
      "text/html": [
       "\n",
       "            <div>\n",
       "                <p><b>SparkSession - in-memory</b></p>\n",
       "                \n",
       "        <div>\n",
       "            <p><b>SparkContext</b></p>\n",
       "\n",
       "            <p><a href=\"http://192.168.0.123:4040\">Spark UI</a></p>\n",
       "\n",
       "            <dl>\n",
       "              <dt>Version</dt>\n",
       "                <dd><code>v2.4.4</code></dd>\n",
       "              <dt>Master</dt>\n",
       "                <dd><code>local[*]</code></dd>\n",
       "              <dt>AppName</dt>\n",
       "                <dd><code>Chicago_crime_analysis</code></dd>\n",
       "            </dl>\n",
       "        </div>\n",
       "        \n",
       "            </div>\n",
       "        "
      ],
      "text/plain": [
       "<pyspark.sql.session.SparkSession at 0x1a5941629b0>"
      ]
     },
     "execution_count": 6,
     "metadata": {},
     "output_type": "execute_result"
    }
   ],
   "source": [
    "spark"
   ]
  },
  {
   "cell_type": "code",
   "execution_count": 3,
   "metadata": {},
   "outputs": [],
   "source": [
    "from pyspark.sql.types import  *\n",
    "#Zonder schema wordt de namen van de column onduidelijk zoals col1,col2 ....\n",
    "crimes_schema = StructType([StructField(\"ID\", StringType(), True),\n",
    "                            StructField(\"CaseNumber\", StringType(), True),\n",
    "                            StructField(\"Date\", StringType(), True ),\n",
    "                            StructField(\"Block\", StringType(), True),\n",
    "                            StructField(\"IUCR\", StringType(), True),\n",
    "                            StructField(\"PrimaryType\", StringType(), True  ),\n",
    "                            StructField(\"Description\", StringType(), True ),\n",
    "                            StructField(\"LocationDescription\", StringType(), True ),\n",
    "                            StructField(\"Arrest\", BooleanType(), True),\n",
    "                            StructField(\"Domestic\", BooleanType(), True),\n",
    "                            StructField(\"Beat\", StringType(), True),\n",
    "                            StructField(\"District\", StringType(), True),\n",
    "                            StructField(\"Ward\", StringType(), True),\n",
    "                            StructField(\"CommunityArea\", StringType(), True),\n",
    "                            StructField(\"FBICode\", StringType(), True ),\n",
    "                            StructField(\"XCoordinate\", DoubleType(), True),\n",
    "                            StructField(\"YCoordinate\", DoubleType(), True ),\n",
    "                            StructField(\"Year\", IntegerType(), True),\n",
    "                            StructField(\"UpdatedOn\", DateType(), True ),\n",
    "                            StructField(\"Latitude\", DoubleType(), True),\n",
    "                            StructField(\"Longitude\", DoubleType(), True),\n",
    "                            StructField(\"Location\", StringType(), True )\n",
    "                            ])"
   ]
  },
  {
   "cell_type": "code",
   "execution_count": 7,
   "metadata": {},
   "outputs": [
    {
     "data": {
      "text/plain": [
       "StructType(List(StructField(ID,StringType,true),StructField(CaseNumber,StringType,true),StructField(Date,StringType,true),StructField(Block,StringType,true),StructField(IUCR,StringType,true),StructField(PrimaryType,StringType,true),StructField(Description,StringType,true),StructField(LocationDescription,StringType,true),StructField(Arrest,BooleanType,true),StructField(Domestic,BooleanType,true),StructField(Beat,StringType,true),StructField(District,StringType,true),StructField(Ward,StringType,true),StructField(CommunityArea,StringType,true),StructField(FBICode,StringType,true),StructField(XCoordinate,DoubleType,true),StructField(YCoordinate,DoubleType,true),StructField(Year,IntegerType,true),StructField(UpdatedOn,DateType,true),StructField(Latitude,DoubleType,true),StructField(Longitude,DoubleType,true),StructField(Location,StringType,true)))"
      ]
     },
     "execution_count": 7,
     "metadata": {},
     "output_type": "execute_result"
    }
   ],
   "source": [
    "crimes_schema"
   ]
  },
  {
   "cell_type": "code",
   "execution_count": 11,
   "metadata": {},
   "outputs": [],
   "source": [
    "crimes = spark.read.csv(\"C:\\\\Users\\kotib\\Documents\\Development\\Datamining(Opdracht)\\city_of_chicago_crimes_2001_to_present.csv\",\n",
    "                       header = True, \n",
    "                        schema = crimes_schema)"
   ]
  },
  {
   "cell_type": "code",
   "execution_count": 12,
   "metadata": {},
   "outputs": [
    {
     "data": {
      "text/plain": [
       "DataFrame[ID: string, CaseNumber: string, Date: string, Block: string, IUCR: string, PrimaryType: string, Description: string, LocationDescription: string, Arrest: boolean, Domestic: boolean, Beat: string, District: string, Ward: string, CommunityArea: string, FBICode: string, XCoordinate: double, YCoordinate: double, Year: int, UpdatedOn: date, Latitude: double, Longitude: double, Location: string]"
      ]
     },
     "execution_count": 12,
     "metadata": {},
     "output_type": "execute_result"
    }
   ],
   "source": [
    "crimes"
   ]
  },
  {
   "cell_type": "code",
   "execution_count": 13,
   "metadata": {},
   "outputs": [
    {
     "name": "stdout",
     "output_type": "stream",
     "text": [
      " The crimes dataframe has 6747040 records\n"
     ]
    }
   ],
   "source": [
    "print(\" The crimes dataframe has {} records\".format(crimes.count()))"
   ]
  },
  {
   "cell_type": "code",
   "execution_count": 14,
   "metadata": {},
   "outputs": [
    {
     "data": {
      "text/plain": [
       "['ID',\n",
       " 'CaseNumber',\n",
       " 'Date',\n",
       " 'Block',\n",
       " 'IUCR',\n",
       " 'PrimaryType',\n",
       " 'Description',\n",
       " 'LocationDescription',\n",
       " 'Arrest',\n",
       " 'Domestic',\n",
       " 'Beat',\n",
       " 'District',\n",
       " 'Ward',\n",
       " 'CommunityArea',\n",
       " 'FBICode',\n",
       " 'XCoordinate',\n",
       " 'YCoordinate',\n",
       " 'Year',\n",
       " 'UpdatedOn',\n",
       " 'Latitude',\n",
       " 'Longitude',\n",
       " 'Location']"
      ]
     },
     "execution_count": 14,
     "metadata": {},
     "output_type": "execute_result"
    }
   ],
   "source": [
    "crimes.columns"
   ]
  },
  {
   "cell_type": "code",
   "execution_count": 15,
   "metadata": {},
   "outputs": [
    {
     "data": {
      "text/plain": [
       "[('ID', 'string'),\n",
       " ('CaseNumber', 'string'),\n",
       " ('Date', 'string'),\n",
       " ('Block', 'string'),\n",
       " ('IUCR', 'string'),\n",
       " ('PrimaryType', 'string'),\n",
       " ('Description', 'string'),\n",
       " ('LocationDescription', 'string'),\n",
       " ('Arrest', 'boolean'),\n",
       " ('Domestic', 'boolean'),\n",
       " ('Beat', 'string'),\n",
       " ('District', 'string'),\n",
       " ('Ward', 'string'),\n",
       " ('CommunityArea', 'string'),\n",
       " ('FBICode', 'string'),\n",
       " ('XCoordinate', 'double'),\n",
       " ('YCoordinate', 'double'),\n",
       " ('Year', 'int'),\n",
       " ('UpdatedOn', 'date'),\n",
       " ('Latitude', 'double'),\n",
       " ('Longitude', 'double'),\n",
       " ('Location', 'string')]"
      ]
     },
     "execution_count": 15,
     "metadata": {},
     "output_type": "execute_result"
    }
   ],
   "source": [
    "crimes.dtypes"
   ]
  },
  {
   "cell_type": "code",
   "execution_count": 16,
   "metadata": {},
   "outputs": [
    {
     "name": "stdout",
     "output_type": "stream",
     "text": [
      "root\n",
      " |-- ID: string (nullable = true)\n",
      " |-- CaseNumber: string (nullable = true)\n",
      " |-- Date: string (nullable = true)\n",
      " |-- Block: string (nullable = true)\n",
      " |-- IUCR: string (nullable = true)\n",
      " |-- PrimaryType: string (nullable = true)\n",
      " |-- Description: string (nullable = true)\n",
      " |-- LocationDescription: string (nullable = true)\n",
      " |-- Arrest: boolean (nullable = true)\n",
      " |-- Domestic: boolean (nullable = true)\n",
      " |-- Beat: string (nullable = true)\n",
      " |-- District: string (nullable = true)\n",
      " |-- Ward: string (nullable = true)\n",
      " |-- CommunityArea: string (nullable = true)\n",
      " |-- FBICode: string (nullable = true)\n",
      " |-- XCoordinate: double (nullable = true)\n",
      " |-- YCoordinate: double (nullable = true)\n",
      " |-- Year: integer (nullable = true)\n",
      " |-- UpdatedOn: date (nullable = true)\n",
      " |-- Latitude: double (nullable = true)\n",
      " |-- Longitude: double (nullable = true)\n",
      " |-- Location: string (nullable = true)\n",
      "\n"
     ]
    }
   ],
   "source": [
    "crimes.printSchema()"
   ]
  },
  {
   "cell_type": "code",
   "execution_count": 20,
   "metadata": {},
   "outputs": [
    {
     "name": "stdout",
     "output_type": "stream",
     "text": [
      "+----------------------+\n",
      "|Date                  |\n",
      "+----------------------+\n",
      "|03/18/2015 07:44:00 PM|\n",
      "|03/18/2015 11:00:00 PM|\n",
      "|03/18/2015 10:45:00 PM|\n",
      "|03/18/2015 10:30:00 PM|\n",
      "|03/18/2015 09:00:00 PM|\n",
      "|03/18/2015 10:00:00 PM|\n",
      "|03/18/2015 11:00:00 PM|\n",
      "|03/18/2015 09:35:00 PM|\n",
      "|03/18/2015 10:09:00 PM|\n",
      "|03/18/2015 09:25:00 PM|\n",
      "+----------------------+\n",
      "only showing top 10 rows\n",
      "\n"
     ]
    }
   ],
   "source": [
    "#met truncate wordt de volledige lijn weergegeven zzonder .... op het eind\n",
    "crimes.select(\"Date\").show(10, truncate = False)"
   ]
  },
  {
   "cell_type": "code",
   "execution_count": 63,
   "metadata": {},
   "outputs": [
    {
     "name": "stdout",
     "output_type": "stream",
     "text": [
      "+-------------------+\n",
      "|          Date_time|\n",
      "+-------------------+\n",
      "|2015-03-18 19:44:00|\n",
      "|2015-03-18 23:00:00|\n",
      "|2015-03-18 22:45:00|\n",
      "|2015-03-18 22:30:00|\n",
      "|2015-03-18 21:00:00|\n",
      "+-------------------+\n",
      "only showing top 5 rows\n",
      "\n"
     ]
    }
   ],
   "source": [
    "from datetime import datetime\n",
    "from pyspark.sql.functions import col,udf\n",
    "myfunc =  udf(lambda x: datetime.strptime(x, '%m/%d/%Y %I:%M:%S %p'), TimestampType())\n",
    "df = crimes.withColumn('Date_time', myfunc(col('Date'))).drop(\"Date\")\n",
    "df.select(df[\"Date_time\"]).show(5)"
   ]
  },
  {
   "cell_type": "code",
   "execution_count": 22,
   "metadata": {},
   "outputs": [
    {
     "name": "stdout",
     "output_type": "stream",
     "text": [
      "+-------+-------------------+-------------------+-----------------+------------------+------------------+\n",
      "|summary|           Latitude|          Longitude|             Year|       XCoordinate|       YCoordinate|\n",
      "+-------+-------------------+-------------------+-----------------+------------------+------------------+\n",
      "|  count|            6686639|            6686639|          6747040|           6686639|           6686639|\n",
      "|   mean| 41.841984448335204|  -87.6718121010152|2008.319304910005|1164514.1448328525|1885709.8140022215|\n",
      "| stddev|0.09003034396706244|0.06215255522777964|5.007506095308818| 17175.38947907582| 32717.43855968185|\n",
      "|    min|       36.619446395|      -91.686565684|             2001|               0.0|               0.0|\n",
      "|    max|       42.022910333|      -87.524529378|             2018|         1205119.0|         1951622.0|\n",
      "+-------+-------------------+-------------------+-----------------+------------------+------------------+\n",
      "\n"
     ]
    }
   ],
   "source": [
    "crimes.select([\"Latitude\",\"Longitude\",\"Year\",\"XCoordinate\",\"YCoordinate\"]).describe().show()"
   ]
  },
  {
   "cell_type": "code",
   "execution_count": 23,
   "metadata": {},
   "outputs": [
    {
     "name": "stdout",
     "output_type": "stream",
     "text": [
      "+-------+------------+------------+-------+------------+------------+\n",
      "|summary|    Latitude|   Longitude|   year| XCoordinate| YCoordinate|\n",
      "+-------+------------+------------+-------+------------+------------+\n",
      "|  count|6,686,639.00|6,686,639.00|6747040|6,686,639.00|6,686,639.00|\n",
      "|   mean|       41.84|      -87.67|   2008|1,164,514.12|1,885,709.88|\n",
      "| stddev|        0.09|        0.06|      5|   17,175.39|   32,717.44|\n",
      "|    min|       36.62|      -91.69|   2001|        0.00|        0.00|\n",
      "|    max|       42.02|      -87.52|   2018|1,205,119.00|1,951,622.00|\n",
      "+-------+------------+------------+-------+------------+------------+\n",
      "\n"
     ]
    }
   ],
   "source": [
    "from pyspark.sql.functions import format_number\n",
    "result = crimes.select([\"Latitude\",\"Longitude\",\"Year\",\"XCoordinate\",\"YCoordinate\"]).describe()\n",
    "result.select(result['summary'],\n",
    "              format_number(result['Latitude'].cast('float'),2).alias('Latitude'),\n",
    "              format_number(result['Longitude'].cast('float'),2).alias('Longitude'),\n",
    "              result['Year'].cast('int').alias('year'),\n",
    "              format_number(result['XCoordinate'].cast('float'),2).alias('XCoordinate'),\n",
    "              format_number(result['YCoordinate'].cast('float'),2).alias('YCoordinate')\n",
    "             ).show()"
   ]
  },
  {
   "cell_type": "code",
   "execution_count": 24,
   "metadata": {},
   "outputs": [
    {
     "data": {
      "text/plain": [
       "35"
      ]
     },
     "execution_count": 24,
     "metadata": {},
     "output_type": "execute_result"
    }
   ],
   "source": [
    "crimes.select(\"PrimaryType\").distinct().count()"
   ]
  },
  {
   "cell_type": "code",
   "execution_count": 27,
   "metadata": {},
   "outputs": [
    {
     "name": "stdout",
     "output_type": "stream",
     "text": [
      "+---------------------------------+\n",
      "|PrimaryType                      |\n",
      "+---------------------------------+\n",
      "|OFFENSE INVOLVING CHILDREN       |\n",
      "|STALKING                         |\n",
      "|PUBLIC PEACE VIOLATION           |\n",
      "|OBSCENITY                        |\n",
      "|NON-CRIMINAL (SUBJECT SPECIFIED) |\n",
      "|ARSON                            |\n",
      "|DOMESTIC VIOLENCE                |\n",
      "|GAMBLING                         |\n",
      "|CRIMINAL TRESPASS                |\n",
      "|ASSAULT                          |\n",
      "|NON - CRIMINAL                   |\n",
      "|LIQUOR LAW VIOLATION             |\n",
      "|MOTOR VEHICLE THEFT              |\n",
      "|THEFT                            |\n",
      "|BATTERY                          |\n",
      "|ROBBERY                          |\n",
      "|HOMICIDE                         |\n",
      "|RITUALISM                        |\n",
      "|PUBLIC INDECENCY                 |\n",
      "|CRIM SEXUAL ASSAULT              |\n",
      "|HUMAN TRAFFICKING                |\n",
      "|INTIMIDATION                     |\n",
      "|PROSTITUTION                     |\n",
      "|DECEPTIVE PRACTICE               |\n",
      "|CONCEALED CARRY LICENSE VIOLATION|\n",
      "|SEX OFFENSE                      |\n",
      "|CRIMINAL DAMAGE                  |\n",
      "|NARCOTICS                        |\n",
      "|NON-CRIMINAL                     |\n",
      "|OTHER OFFENSE                    |\n",
      "|KIDNAPPING                       |\n",
      "|BURGLARY                         |\n",
      "|WEAPONS VIOLATION                |\n",
      "|OTHER NARCOTIC VIOLATION         |\n",
      "|INTERFERENCE WITH PUBLIC OFFICER |\n",
      "+---------------------------------+\n",
      "\n"
     ]
    }
   ],
   "source": [
    "crimes.select(\"PrimaryType\").distinct().show(35,truncate = False)"
   ]
  },
  {
   "cell_type": "code",
   "execution_count": 28,
   "metadata": {},
   "outputs": [
    {
     "data": {
      "text/plain": [
       "9425"
      ]
     },
     "execution_count": 28,
     "metadata": {},
     "output_type": "execute_result"
    }
   ],
   "source": [
    "crimes.where(crimes[\"PrimaryType\"] == \"HOMICIDE\").count()"
   ]
  },
  {
   "cell_type": "code",
   "execution_count": 29,
   "metadata": {},
   "outputs": [
    {
     "data": {
      "text/plain": [
       "91598"
      ]
     },
     "execution_count": 29,
     "metadata": {},
     "output_type": "execute_result"
    }
   ],
   "source": [
    "crimes.filter((crimes[\"PrimaryType\"] == \"ASSAULT\") & (crimes[\"Domestic\"] == \"True\")).count()"
   ]
  },
  {
   "cell_type": "code",
   "execution_count": 30,
   "metadata": {},
   "outputs": [
    {
     "name": "stdout",
     "output_type": "stream",
     "text": [
      "+-----------+-------------------+------+--------+\n",
      "|PrimaryType|        Description|Arrest|Domestic|\n",
      "+-----------+-------------------+------+--------+\n",
      "|   HOMICIDE|FIRST DEGREE MURDER|  true|    true|\n",
      "|   HOMICIDE|FIRST DEGREE MURDER|  true|   false|\n",
      "|   HOMICIDE|FIRST DEGREE MURDER|  true|   false|\n",
      "|   HOMICIDE|FIRST DEGREE MURDER|  true|   false|\n",
      "|   HOMICIDE|FIRST DEGREE MURDER|  true|   false|\n",
      "|   HOMICIDE|FIRST DEGREE MURDER|  true|   false|\n",
      "|   HOMICIDE|FIRST DEGREE MURDER|  true|   false|\n",
      "|   HOMICIDE|FIRST DEGREE MURDER|  true|   false|\n",
      "|   HOMICIDE|FIRST DEGREE MURDER|  true|   false|\n",
      "|   HOMICIDE|FIRST DEGREE MURDER|  true|    true|\n",
      "+-----------+-------------------+------+--------+\n",
      "only showing top 10 rows\n",
      "\n"
     ]
    }
   ],
   "source": [
    "columns = ['PrimaryType', 'Description', 'Arrest', 'Domestic']\n",
    "\n",
    "crimes.where((crimes[\"PrimaryType\"] == \"HOMICIDE\") & (crimes[\"Arrest\"] == \"true\"))\\\n",
    "                                                        .select(columns).show(10)"
   ]
  },
  {
   "cell_type": "code",
   "execution_count": 31,
   "metadata": {},
   "outputs": [
    {
     "name": "stdout",
     "output_type": "stream",
     "text": [
      "+-------------+--------------------+------+--------+\n",
      "|  PrimaryType|         Description|Arrest|Domestic|\n",
      "+-------------+--------------------+------+--------+\n",
      "|      BATTERY| AGGRAVATED: HANDGUN| false|   false|\n",
      "|OTHER OFFENSE|    PAROLE VIOLATION|  true|   false|\n",
      "|      BATTERY|DOMESTIC BATTERY ...| false|    true|\n",
      "|      BATTERY|              SIMPLE| false|   false|\n",
      "|      ROBBERY|      ARMED: HANDGUN| false|   false|\n",
      "|      BATTERY|              SIMPLE| false|   false|\n",
      "|      BATTERY|DOMESTIC BATTERY ...| false|    true|\n",
      "|      BATTERY|DOMESTIC BATTERY ...| false|    true|\n",
      "|    NARCOTICS|POSS: CANNABIS 30...|  true|   false|\n",
      "|      BATTERY|              SIMPLE| false|   false|\n",
      "+-------------+--------------------+------+--------+\n",
      "\n"
     ]
    }
   ],
   "source": [
    "crimes.select(columns).limit(10). show(truncate = True)"
   ]
  },
  {
   "cell_type": "code",
   "execution_count": 36,
   "metadata": {},
   "outputs": [
    {
     "name": "stdout",
     "output_type": "stream",
     "text": [
      "The maximum latitude values is 42.022910333\n"
     ]
    }
   ],
   "source": [
    "lat_max = crimes.agg({\"Latitude\" : \"max\"}).collect()[0][0]\n",
    "print(\"The maximum latitude values is {}\".format(lat_max))"
   ]
  },
  {
   "cell_type": "code",
   "execution_count": 37,
   "metadata": {},
   "outputs": [
    {
     "name": "stdout",
     "output_type": "stream",
     "text": [
      "+------------+-----------------------+\n",
      "|    Latitude|difference_from_max_lat|\n",
      "+------------+-----------------------+\n",
      "|41.891398861|    0.13151147199999969|\n",
      "|41.773371528|    0.24953880500000025|\n",
      "| 41.81386068|      0.209049653000001|\n",
      "|41.800802415|    0.22210791799999896|\n",
      "|41.878064761|    0.14484557200000125|\n",
      "+------------+-----------------------+\n",
      "only showing top 5 rows\n",
      "\n"
     ]
    }
   ],
   "source": [
    "df = crimes.withColumn(\"difference_from_max_lat\",lat_max - crimes[\"Latitude\"])\n",
    "df.select([\"Latitude\", \"difference_from_max_lat\"]).show(5)"
   ]
  },
  {
   "cell_type": "code",
   "execution_count": 38,
   "metadata": {},
   "outputs": [],
   "source": [
    "df = crimes.withColumnRenamed(\"Latitude\", \"Lat\")\n",
    "columns = ['PrimaryType', 'Description', 'Arrest', 'Domestic','Lat']"
   ]
  },
  {
   "cell_type": "code",
   "execution_count": 39,
   "metadata": {},
   "outputs": [
    {
     "name": "stdout",
     "output_type": "stream",
     "text": [
      "+------------------+\n",
      "|          avg(Lat)|\n",
      "+------------------+\n",
      "|41.841984448335204|\n",
      "+------------------+\n",
      "\n"
     ]
    }
   ],
   "source": [
    "df.agg({\"Lat\":\"avg\"}).show()"
   ]
  },
  {
   "cell_type": "code",
   "execution_count": 40,
   "metadata": {},
   "outputs": [
    {
     "name": "stdout",
     "output_type": "stream",
     "text": [
      "+----------------+----------------+\n",
      "|max(Xcoordinate)|min(Xcoordinate)|\n",
      "+----------------+----------------+\n",
      "|       1205119.0|             0.0|\n",
      "+----------------+----------------+\n",
      "\n"
     ]
    }
   ],
   "source": [
    "from pyspark.sql.functions import max,min\n",
    "df.select(max(\"Xcoordinate\"),min(\"Xcoordinate\")).show()"
   ]
  },
  {
   "cell_type": "code",
   "execution_count": 41,
   "metadata": {},
   "outputs": [
    {
     "data": {
      "text/plain": [
       "13.11715952476938"
      ]
     },
     "execution_count": 41,
     "metadata": {},
     "output_type": "execute_result"
    }
   ],
   "source": [
    "df.filter(df[\"Domestic\"]==True).count()/df.count() * 100"
   ]
  },
  {
   "cell_type": "code",
   "execution_count": 42,
   "metadata": {},
   "outputs": [
    {
     "name": "stdout",
     "output_type": "stream",
     "text": [
      "+----------------------+\n",
      "|corr(Lat, Ycoordinate)|\n",
      "+----------------------+\n",
      "|    0.9999933497294156|\n",
      "+----------------------+\n",
      "\n"
     ]
    }
   ],
   "source": [
    "from pyspark.sql.functions import corr\n",
    "df.select(corr(\"Lat\",\"Ycoordinate\")).show()"
   ]
  },
  {
   "cell_type": "code",
   "execution_count": 43,
   "metadata": {},
   "outputs": [
    {
     "name": "stdout",
     "output_type": "stream",
     "text": [
      "+----+------+\n",
      "|Year| count|\n",
      "+----+------+\n",
      "|2003|475936|\n",
      "|2007|436999|\n",
      "|2018|229998|\n",
      "|2015|263929|\n",
      "|2006|448097|\n",
      "|2013|307030|\n",
      "|2014|275200|\n",
      "|2004|469381|\n",
      "|2012|335921|\n",
      "|2009|392663|\n",
      "|2016|268813|\n",
      "|2001|485749|\n",
      "|2005|453703|\n",
      "|2010|370290|\n",
      "|2011|351749|\n",
      "|2008|427038|\n",
      "|2017|267791|\n",
      "|2002|486753|\n",
      "+----+------+\n",
      "\n"
     ]
    },
    {
     "data": {
      "text/plain": [
       "[Row(Year=2003, count=475936),\n",
       " Row(Year=2007, count=436999),\n",
       " Row(Year=2018, count=229998),\n",
       " Row(Year=2015, count=263929),\n",
       " Row(Year=2006, count=448097),\n",
       " Row(Year=2013, count=307030),\n",
       " Row(Year=2014, count=275200),\n",
       " Row(Year=2004, count=469381),\n",
       " Row(Year=2012, count=335921),\n",
       " Row(Year=2009, count=392663),\n",
       " Row(Year=2016, count=268813),\n",
       " Row(Year=2001, count=485749),\n",
       " Row(Year=2005, count=453703),\n",
       " Row(Year=2010, count=370290),\n",
       " Row(Year=2011, count=351749),\n",
       " Row(Year=2008, count=427038),\n",
       " Row(Year=2017, count=267791),\n",
       " Row(Year=2002, count=486753)]"
      ]
     },
     "execution_count": 43,
     "metadata": {},
     "output_type": "execute_result"
    }
   ],
   "source": [
    "df.groupBy(\"Year\").count().show()\n",
    "df.groupBy(\"Year\").count().collect()"
   ]
  },
  {
   "cell_type": "code",
   "execution_count": 56,
   "metadata": {},
   "outputs": [
    {
     "name": "stdout",
     "output_type": "stream",
     "text": [
      "     count  year\n",
      "0   475936  2003\n",
      "1   436999  2007\n",
      "2   229998  2018\n",
      "3   263929  2015\n",
      "4   448097  2006\n",
      "5   307030  2013\n",
      "6   275200  2014\n",
      "7   469381  2004\n",
      "8   335921  2012\n",
      "9   392663  2009\n",
      "10  268813  2016\n",
      "11  485749  2001\n",
      "12  453703  2005\n",
      "13  370290  2010\n",
      "14  351749  2011\n",
      "15  427038  2008\n",
      "16  267791  2017\n",
      "17  486753  2002\n"
     ]
    }
   ],
   "source": [
    "count = [item[1] for item in df.groupBy(\"Year\").count().collect()]\n",
    "year = [item[0] for item in df.groupBy(\"Year\").count().collect()]\n",
    "number_of_crimes_per_year = {\"count\":count, \"year\" : year}\n",
    "import pandas as pd\n",
    "import matplotlib.pyplot as plt\n",
    "%matplotlib inline\n",
    "number_of_crimes_per_year = pd.DataFrame(number_of_crimes_per_year)\n",
    "number_of_crimes_per_year.head()\n",
    "print(number_of_crimes_per_year)"
   ]
  },
  {
   "cell_type": "code",
   "execution_count": 59,
   "metadata": {},
   "outputs": [
    {
     "data": {
      "image/png": "[encoded data removed]",
      "text/plain": [
       "<Figure size 1440x720 with 1 Axes>"
      ]
     },
     "metadata": {
      "needs_background": "light"
     },
     "output_type": "display_data"
    }
   ],
   "source": [
    "number_of_crimes_per_year = number_of_crimes_per_year.sort_values(by = \"year\")\n",
    "number_of_crimes_per_year.plot(figsize = (20,10), kind = \"bar\", color = \"red\",\n",
    "                               x = \"year\", y = \"count\", legend = False)\n",
    "plt.xlabel(\"\", fontsize = 18)\n",
    "plt.ylabel(\"Number of Crimes\", fontsize = 18)\n",
    "plt.title(\"Number of Crimes Per Year\", fontsize = 28)\n",
    "plt.xticks(size = 18)\n",
    "plt.yticks(size = 18)\n",
    "plt.show()"
   ]
  },
  {
   "cell_type": "code",
   "execution_count": 61,
   "metadata": {},
   "outputs": [
    {
     "name": "stdout",
     "output_type": "stream",
     "text": [
      "DataFrame[ID: string, CaseNumber: string, Date: string, Block: string, IUCR: string, PrimaryType: string, Description: string, LocationDescription: string, Arrest: boolean, Domestic: boolean, Beat: string, District: string, Ward: string, CommunityArea: string, FBICode: string, XCoordinate: double, YCoordinate: double, Year: int, UpdatedOn: date, Lat: double, Longitude: double, Location: string]\n"
     ]
    }
   ],
   "source": [
    "print(df)"
   ]
  },
  {
   "cell_type": "code",
   "execution_count": 64,
   "metadata": {},
   "outputs": [
    {
     "data": {
      "image/png": "[encoded data removed]",
      "text/plain": [
       "<Figure size 1440x720 with 1 Axes>"
      ]
     },
     "metadata": {
      "needs_background": "light"
     },
     "output_type": "display_data"
    }
   ],
   "source": [
    "from pyspark.sql.functions import month\n",
    "monthdf = df.withColumn(\"Month\",month('Date_time'))\n",
    "monthCounts = monthdf.select(\"Month\").groupBy(\"Month\").count()\n",
    "monthCounts = monthCounts.collect()\n",
    "months = [item[0] for item in monthCounts]\n",
    "count = [item[1] for item in monthCounts]\n",
    "crimes_per_month = {\"month\":months, \"crime_count\": count}\n",
    "crimes_per_month = pd.DataFrame(crimes_per_month)\n",
    "crimes_per_month = crimes_per_month.sort_values(by = \"month\")\n",
    "crimes_per_month.plot(figsize = (20,10), kind = \"line\", x = \"month\", y = \"crime_count\", \n",
    "                      color = \"red\", linewidth = 8, legend = False)\n",
    "plt.xlabel(\"Month\", fontsize = 18)\n",
    "plt.ylabel(\"Number of Crimes\", fontsize = 18)\n",
    "plt.title(\"Number of Crimes Per Month\", fontsize = 28)\n",
    "plt.xticks(size = 18)\n",
    "plt.yticks(size = 18)\n",
    "plt.show()"
   ]
  },
  {
   "cell_type": "code",
   "execution_count": 91,
   "metadata": {
    "scrolled": true
   },
   "outputs": [
    {
     "data": {
      "text/plain": [
       "[Row(count=[13, 1600, 1, 17475, 5, 665415, 77, 1, 9935, 2774, 1, 16099, 5, 7090, 777, 3, 28988, 3914, 4998, 2, 516, 349, 2, 200, 102, 13392, 17, 5364, 2, 9224, 1786, 3836, 727, 335, 7, 1034, 36286, 13, 4096, 15, 64, 6753, 27461, 87297, 378, 40, 131632, 8, 16002, 1, 1118, 2, 7574, 30, 1118, 1, 613, 1, 18, 24827, 6, 1770601, 19597, 3, 6, 4, 7696, 11, 8021, 11, 2917, 6, 8, 2, 49101, 5935, 1, 4, 6107, 21583, 2, 142257, 44, 486, 3, 2, 1, 5, 71977, 35, 4, 2, 108210, 119254, 36002, 11175, 21816, 1, 203, 6, 1142451, 3, 522, 663, 1, 869, 15, 765, 18, 4080, 872, 30594, 83660, 23910, 20460, 2, 10746, 2, 3, 150881, 535, 156, 52324, 117912, 4734, 87, 105579, 69493, 382, 228, 697292, 256428, 2751, 70, 34, 1, 23983, 636, 84, 28032, 287, 762, 14108, 7, 7, 1, 7212, 5745, 2555, 222, 55457, 1, 603, 3, 5618, 1010, 3, 353, 40, 264, 1044, 100, 658, 12901, 4, 3, 962, 2, 1010, 35974, 1354, 54, 7, 193801, 13441, 105, 17, 14880, 686, 2], location=['RAILROAD PROPERTY', 'AIRPORT TERMINAL LOWER LEVEL - NON-SECURE AREA', 'EXPRESSWAY EMBANKMENT', 'POLICE FACILITY/VEH PARKING LOT', 'MOTEL', 'SIDEWALK', 'AIRPORT TERMINAL MEZZANINE - NON-SECURE AREA', 'PUBLIC GRAMMAR SCHOOL', 'CTA GARAGE / OTHER PROPERTY', 'CAR WASH', 'TRUCKING TERMINAL', 'AIRPORT/AIRCRAFT', 'HOSPITAL', 'MEDICAL/DENTAL OFFICE', 'FEDERAL BUILDING', 'TRAILER', 'SCHOOL, PUBLIC, GROUNDS', 'CTA STATION', 'SPORTS ARENA/STADIUM', 'FARM', 'HOUSE', 'CEMETARY', 'ROOMING HOUSE', 'VEHICLE - OTHER RIDE SHARE SERVICE (E.G., UBER, LYFT)', 'VACANT LOT', 'SCHOOL, PRIVATE, BUILDING', 'DRIVEWAY', 'VEHICLE-COMMERCIAL', 'COUNTY JAIL', 'WAREHOUSE', 'APPLIANCE STORE', 'AIRPORT TERMINAL UPPER LEVEL - SECURE AREA', 'AIRPORT EXTERIOR - NON-SECURE AREA', 'VEHICLE - OTHER RIDE SERVICE', 'DUMPSTER', 'COIN OPERATED MACHINE', 'CTA PLATFORM', 'BARBER SHOP/BEAUTY SALON', None, 'CLUB', 'GANGWAY', 'FACTORY/MANUFACTURING BUILDING', 'BANK', 'GROCERY FOOD STORE', 'BRIDGE', 'CHA GROUNDS', 'RESIDENCE-GARAGE', 'CHA STAIRWELL', 'CONVENIENCE STORE', 'KENNEL', 'LAKEFRONT/WATERFRONT/RIVERBANK', 'PUBLIC HIGH SCHOOL', 'ATM (AUTOMATIC TELLER MACHINE)', 'BASEMENT', 'AUTO', 'ELEVATOR', 'AIRCRAFT', 'JUNK YARD/GARBAGE DUMP', 'HOTEL', 'CHA HALLWAY/STAIRWELL/ELEVATOR', 'TAXI CAB', 'STREET', 'DRIVEWAY - RESIDENTIAL', 'LAKE', 'CHURCH', 'RIVER', 'BARBERSHOP', 'SCHOOL YARD', 'ATHLETIC CLUB', 'GARAGE/AUTO REPAIR', 'OTHER COMMERCIAL TRANSPORTATION', 'VEHICLE-COMMERCIAL - TROLLEY BUS', 'TRUCK', 'CHA ELEVATOR', 'COMMERCIAL / BUSINESS OFFICE', 'LIBRARY', 'LIVERY AUTO', 'RIVER BANK', 'CTA BUS STOP', 'CTA BUS', 'LAUNDRY ROOM', 'SCHOOL, PUBLIC, BUILDING', 'GAS STATION DRIVE/PROP.', 'CREDIT UNION', 'HORSE STABLE', 'GOVERNMENT BUILDING', 'BANQUET HALL', 'NURSING HOME', 'GAS STATION', 'CHA HALLWAY', '\"CTA \"\"L\"\" PLATFORM\"', '\"CTA \"\"L\"\" TRAIN\"', 'VEHICLE NON-COMMERCIAL', 'SMALL RETAIL STORE', 'CHA APARTMENT', 'ABANDONED BUILDING', 'TAVERN/LIQUOR STORE', 'CLEANERS/LAUNDROMAT', 'YARD', 'CHA LOBBY', 'RESIDENCE', 'CHA PLAY LOT', 'PAWN SHOP', 'BOAT/WATERCRAFT', 'POOLROOM', 'POOL ROOM', 'OFFICE', 'AIRPORT BUILDING NON-TERMINAL - NON-SECURE AREA', 'STAIRWELL', 'SCHOOL, PRIVATE, GROUNDS', 'AIRPORT VENDING ESTABLISHMENT', 'DRUG STORE', 'DEPARTMENT STORE', 'VACANT LOT/LAND', 'HOSPITAL BUILDING/GROUNDS', 'FACTORY', 'CURRENCY EXCHANGE', 'CHURCH PROPERTY', 'CHA BREEZEWAY', 'ALLEY', 'AIRPORT BUILDING NON-TERMINAL - SECURE AREA', 'PARKING LOT', 'PARK PROPERTY', 'RESIDENCE PORCH/HALLWAY', 'CLEANING STORE', 'AIRPORT TRANSPORTATION SYSTEM (ATS)', 'RESTAURANT', 'RESIDENTIAL YARD (FRONT/BACK)', 'FOREST PRESERVE', 'NEWSSTAND', 'APARTMENT', 'OTHER', 'DAY CARE CENTER', 'RETAIL STORE', 'TAVERN', 'LAGOON', 'CTA TRAIN', 'AIRPORT TERMINAL UPPER LEVEL - NON-SECURE AREA', 'HALLWAY', 'HOTEL/MOTEL', 'PORCH', 'ANIMAL HOSPITAL', 'GOVERNMENT BUILDING/PROPERTY', 'VEHICLE-COMMERCIAL - ENTERTAINMENT/PARTY BUS', 'LIQUOR STORE', 'FUNERAL PARLOR', 'TAXICAB', 'OTHER RAILROAD PROP / TRAIN DEPOT', 'MOVIE HOUSE/THEATER', 'AUTO / BOAT / RV DEALERSHIP', 'CHA PARKING LOT/GROUNDS', 'LOADING DOCK', 'AIRPORT TERMINAL LOWER LEVEL - SECURE AREA', 'COACH HOUSE', 'COLLEGE/UNIVERSITY GROUNDS', 'FIRE STATION', 'YMCA', 'SAVINGS AND LOAN', 'CHA PARKING LOT', 'AIRPORT EXTERIOR - SECURE AREA', 'JAIL / LOCK-UP FACILITY', 'VEHICLE - DELIVERY TRUCK', 'BOWLING ALLEY', 'CONSTRUCTION SITE', 'CTA PROPERTY', 'SEWER', 'DELIVERY TRUCK', 'PRAIRIE', 'HIGHWAY/EXPRESSWAY', 'BAR OR TAVERN', 'COLLEGE/UNIVERSITY RESIDENCE HALL', 'GARAGE', 'WOODED AREA', 'PARKING LOT/GARAGE(NON.RESID.)', 'NURSING HOME/RETIREMENT HOME', 'CTA TRACKS - RIGHT OF WAY', 'VESTIBULE', 'CHURCH/SYNAGOGUE/PLACE OF WORSHIP', 'AIRPORT PARKING LOT', 'LIVERY STAND OFFICE'])]"
      ]
     },
     "execution_count": 91,
     "metadata": {},
     "output_type": "execute_result"
    }
   ],
   "source": [
    "from pyspark.sql import Row\n",
    "from collections import OrderedDict\n",
    "sc = spark.sparkContext\n",
    "def convert_to_row(d: dict) -> Row:\n",
    "    return Row(**OrderedDict(sorted(d.items())))\n",
    "crime_location  = crimes.groupBy(\"LocationDescription\").count().collect()\n",
    "location = [item[0] for item in crime_location]\n",
    "count = [item[1] for item in crime_location]\n",
    "crime_location = sc.parallelize([{\"location\" : location, \"count\": count}]) \\\n",
    "   .map(convert_to_row) \\\n",
    "    .toDF()\n",
    "  \n",
    "crime_location.collect()"
   ]
  },
  {
   "cell_type": "code",
   "execution_count": 92,
   "metadata": {},
   "outputs": [
    {
     "ename": "AttributeError",
     "evalue": "'DataFrame' object has no attribute 'sort_values'",
     "output_type": "error",
     "traceback": [
      "\u001b[1;31m---------------------------------------------------------------------------\u001b[0m",
      "\u001b[1;31mAttributeError\u001b[0m                            Traceback (most recent call last)",
      "\u001b[1;32m<ipython-input-92-6b66e1a4d89d>\u001b[0m in \u001b[0;36m<module>\u001b[1;34m\u001b[0m\n\u001b[1;32m----> 1\u001b[1;33m \u001b[0mcrime_location\u001b[0m \u001b[1;33m=\u001b[0m \u001b[0mcrime_location\u001b[0m\u001b[1;33m.\u001b[0m\u001b[0msort_values\u001b[0m\u001b[1;33m(\u001b[0m\u001b[0mby\u001b[0m \u001b[1;33m=\u001b[0m \u001b[1;34m\"count\"\u001b[0m\u001b[1;33m,\u001b[0m \u001b[0mascending\u001b[0m  \u001b[1;33m=\u001b[0m \u001b[1;32mFalse\u001b[0m\u001b[1;33m)\u001b[0m\u001b[1;33m\u001b[0m\u001b[1;33m\u001b[0m\u001b[0m\n\u001b[0m\u001b[0;32m      2\u001b[0m \u001b[0mcrime_location\u001b[0m \u001b[1;33m=\u001b[0m \u001b[0mcrime_location\u001b[0m\u001b[1;33m.\u001b[0m\u001b[0miloc\u001b[0m\u001b[1;33m[\u001b[0m\u001b[1;33m:\u001b[0m\u001b[1;36m20\u001b[0m\u001b[1;33m]\u001b[0m\u001b[1;33m\u001b[0m\u001b[1;33m\u001b[0m\u001b[0m\n\u001b[0;32m      3\u001b[0m myplot = crime_location .plot(figsize = (20,20), kind = \"barh\", color = \"#b55900\", width = 0.8,\n\u001b[0;32m      4\u001b[0m                                x = \"location\", y = \"count\", legend = False)\n\u001b[0;32m      5\u001b[0m \u001b[0mmyplot\u001b[0m\u001b[1;33m.\u001b[0m\u001b[0minvert_yaxis\u001b[0m\u001b[1;33m(\u001b[0m\u001b[1;33m)\u001b[0m\u001b[1;33m\u001b[0m\u001b[1;33m\u001b[0m\u001b[0m\n",
      "\u001b[1;32m~\\Anaconda3\\lib\\site-packages\\pyspark\\sql\\dataframe.py\u001b[0m in \u001b[0;36m__getattr__\u001b[1;34m(self, name)\u001b[0m\n\u001b[0;32m   1299\u001b[0m         \u001b[1;32mif\u001b[0m \u001b[0mname\u001b[0m \u001b[1;32mnot\u001b[0m \u001b[1;32min\u001b[0m \u001b[0mself\u001b[0m\u001b[1;33m.\u001b[0m\u001b[0mcolumns\u001b[0m\u001b[1;33m:\u001b[0m\u001b[1;33m\u001b[0m\u001b[1;33m\u001b[0m\u001b[0m\n\u001b[0;32m   1300\u001b[0m             raise AttributeError(\n\u001b[1;32m-> 1301\u001b[1;33m                 \"'%s' object has no attribute '%s'\" % (self.__class__.__name__, name))\n\u001b[0m\u001b[0;32m   1302\u001b[0m         \u001b[0mjc\u001b[0m \u001b[1;33m=\u001b[0m \u001b[0mself\u001b[0m\u001b[1;33m.\u001b[0m\u001b[0m_jdf\u001b[0m\u001b[1;33m.\u001b[0m\u001b[0mapply\u001b[0m\u001b[1;33m(\u001b[0m\u001b[0mname\u001b[0m\u001b[1;33m)\u001b[0m\u001b[1;33m\u001b[0m\u001b[1;33m\u001b[0m\u001b[0m\n\u001b[0;32m   1303\u001b[0m         \u001b[1;32mreturn\u001b[0m \u001b[0mColumn\u001b[0m\u001b[1;33m(\u001b[0m\u001b[0mjc\u001b[0m\u001b[1;33m)\u001b[0m\u001b[1;33m\u001b[0m\u001b[1;33m\u001b[0m\u001b[0m\n",
      "\u001b[1;31mAttributeError\u001b[0m: 'DataFrame' object has no attribute 'sort_values'"
     ]
    }
   ],
   "source": [
    "\n",
    "crime_location = crime_location.sortBy(\"count\", ascending  = False)\n",
    "crime_location = crime_location.iloc[:20]\n",
    "myplot = crime_location .plot(figsize = (20,20), kind = \"barh\", color = \"#b55900\", width = 0.8,\n",
    "                               x = \"location\", y = \"count\", legend = False)\n",
    "myplot.invert_yaxis()\n",
    "plt.xlabel(\"Number of crimes\", fontsize = 28)\n",
    "plt.ylabel(\"Crime Location\", fontsize = 28)\n",
    "plt.title(\"Number of Crimes By Location\", fontsize = 36)\n",
    "plt.xticks(size = 24)\n",
    "plt.yticks(size = 24)\n",
    "plt.show()"
   ]
  },
  {
   "cell_type": "code",
   "execution_count": null,
   "metadata": {},
   "outputs": [],
   "source": []
  },
  {
   "cell_type": "code",
   "execution_count": null,
   "metadata": {},
   "outputs": [],
   "source": []
  }
 ],
 "metadata": {
  "kernelspec": {
   "display_name": "Python 3",
   "language": "python",
   "name": "python3"
  },
  "language_info": {
   "codemirror_mode": {
    "name": "ipython",
    "version": 3
   },
   "file_extension": ".py",
   "mimetype": "text/x-python",
   "name": "python",
   "nbconvert_exporter": "python",
   "pygments_lexer": "ipython3",
   "version": "3.7.3"
  }
 },
 "nbformat": 4,
 "nbformat_minor": 2
}
