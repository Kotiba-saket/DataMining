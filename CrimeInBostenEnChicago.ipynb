{
 "cells": [
  {
   "cell_type": "code",
   "execution_count": null,
   "metadata": {},
   "outputs": [],
   "source": [
    "#import pyspark\n",
    "from pyspark.sql import SparkSession\n",
    "from pyspark.sql.types import  *\n",
    "from pyspark.sql import SQLContext\n",
    "#Zonder schema wordt de namen van de column onduidelijk zoals col1,col2 ....\n",
    "chicago_crimes_schema = StructType([StructField(\"ID\", StringType(), True),\n",
    "                            StructField(\"CaseNumber\", StringType(), True),\n",
    "                            StructField(\"Date\", StringType(), True ),\n",
    "                            StructField(\"Block\", StringType(), True),\n",
    "                            StructField(\"IUCR\", StringType(), True),\n",
    "                            StructField(\"PrimaryType\", StringType(), True  ),\n",
    "                            StructField(\"Description\", StringType(), True ),\n",
    "                            StructField(\"LocationDescription\", StringType(), True ),\n",
    "                            StructField(\"Arrest\", BooleanType(), True),\n",
    "                            StructField(\"Domestic\", BooleanType(), True),\n",
    "                            StructField(\"Beat\", StringType(), True),\n",
    "                            StructField(\"District\", StringType(), True),\n",
    "                            StructField(\"Ward\", StringType(), True),\n",
    "                            StructField(\"CommunityArea\", StringType(), True),\n",
    "                            StructField(\"FBICode\", StringType(), True ),\n",
    "                            StructField(\"XCoordinate\", DoubleType(), True),\n",
    "                            StructField(\"YCoordinate\", DoubleType(), True ),\n",
    "                            StructField(\"Year\", IntegerType(), True),\n",
    "                            StructField(\"UpdatedOn\", DateType(), True ),\n",
    "                            StructField(\"Latitude\", DoubleType(), True),\n",
    "                            StructField(\"Longitude\", DoubleType(), True),\n",
    "                            StructField(\"Location\", StringType(), True )\n",
    "                            ])\n",
    "\n",
    "\n",
    "boston_crimes_schema = StructType([StructField(\"INCIDENT_NUMBER\", StringType(), True),\n",
    "                            StructField(\"OFFENSE_CODE\", StringType(), True),\n",
    "                            StructField(\"OFFENSE_CODE_GROUP\", StringType(), True),\n",
    "                            StructField(\"OFFENSE_DESCRIPTION\", StringType(), True),\n",
    "                            StructField(\"DISTRICT\", StringType(), True),\n",
    "                            StructField(\"REPORTING_AREA\", StringType(), True),\n",
    "                            StructField(\"SHOOTING\", StringType(), True),\n",
    "                            StructField(\"OCCURRED_ON_DATE\", TimestampType(), True),\n",
    "                            StructField(\"YEAR\", IntegerType(), True),\n",
    "                            StructField(\"MONTH\", IntegerType(), True),\n",
    "                            StructField(\"DAY_OF_WEEK\", StringType(), True),\n",
    "                            StructField(\"HOUR\", IntegerType(), True),\n",
    "                            StructField(\"UCR_PART\",StringType(), True),\n",
    "                            StructField(\"STREET\", StringType(), True),\n",
    "                            StructField(\"Lat\", StringType(), True),\n",
    "                            StructField(\"Long\", StringType(), True),\n",
    "                            StructField(\"Location\", StringType(), True)])\n",
    "\n",
    "\n",
    "schema = StructType([StructField(\"ID Year\", StringType(), True),\n",
    "                            StructField(\"Year\", StringType(), True),\n",
    "                            StructField(\"Income\", IntegerType(), True),\n",
    "                            StructField(\"Household Income by Race Moe\", StringType(), True),\n",
    "                            StructField(\"Geography\", StringType(), True),\n",
    "                            StructField(\"ID Geography\", StringType(), True),\n",
    "                            StructField(\"Slug\", StringType(), True)])\n",
    "\n",
    "\n",
    "spark = SparkSession.builder.appName(\"Crimes in boston and chicago\").getOrCreate()\n",
    "\n",
    "bostoncrimes = spark.read.csv(\"./data/BostonData.csv\", header = True, schema = boston_crimes_schema)\n",
    "\n",
    "\n",
    "\n",
    "spark = SparkSession.builder.master(\"local[*]\").config(\"spark.execute.memory\", \"1gb\").appName(\"Analyzing Bosten and chicago Crime data\").getOrCreate()\n",
    "\n",
    "chicagocrimes = spark.read.csv(\"./data/Crimes_-_2001_to_present.csv\",header = True,schema = chicago_crimes_schema)\n",
    "\n",
    "\n",
    "#spark = SparkSession.builder.appName(\"Analyzing Bosten and chicago Income data\").getOrCreate()\n",
    "\n",
    "chicagoIncome = spark.read.csv(\"./data/ChicagoHouseholdIncome.csv\",header = True,schema = schema)\n",
    "\n",
    "\n",
    "#spark = SparkSession.builder.appName(\"Analyzing Bosten and Boston Income data\").getOrCreate()\n",
    "\n",
    "bostonIncome = spark.read.csv(\"./data/BostonHouseholdIncome.csv\",header = True,schema = schema)\n",
    "\n",
    "sc = spark.sparkContext\n",
    "sqlContext = SQLContext(sc)"
   ]
  },
  {
   "cell_type": "code",
   "execution_count": null,
   "metadata": {},
   "outputs": [],
   "source": [
    "chicagocrimes.count()"
   ]
  },
  {
   "cell_type": "code",
   "execution_count": null,
   "metadata": {},
   "outputs": [],
   "source": [
    "chicagocrimes.columns"
   ]
  },
  {
   "cell_type": "code",
   "execution_count": null,
   "metadata": {},
   "outputs": [],
   "source": [
    "bostoncrimes.count()"
   ]
  },
  {
   "cell_type": "code",
   "execution_count": null,
   "metadata": {},
   "outputs": [],
   "source": [
    "bostoncrimes.columns"
   ]
  },
  {
   "cell_type": "code",
   "execution_count": null,
   "metadata": {},
   "outputs": [],
   "source": [
    "chicagocrimes.select('Date').show(10,truncate=False)"
   ]
  },
  {
   "cell_type": "code",
   "execution_count": null,
   "metadata": {},
   "outputs": [],
   "source": []
  },
  {
   "cell_type": "code",
   "execution_count": null,
   "metadata": {
    "scrolled": false
   },
   "outputs": [],
   "source": [
    "from datetime import datetime\n",
    "from pyspark.sql.functions import col,udf\n",
    "myfunc =  udf(lambda x: datetime.strptime(x, '%m/%d/%Y %I:%M:%S %p'), TimestampType())\n",
    "df =chicagocrimes.withColumn('Date_time',myfunc(col('Date'))).drop('Date')\n",
    "df.select(df[\"Date_time\"]).show(5)\n",
    "\n",
    "dg =bostoncrimes.withColumn('OCCURRED_ON_DATE',myfunc(col('OCCURRED_ON_DATE'))).drop('OCCURRED_ON_DATE')\n",
    "#dg.select(df[\"OCCURRED_ON_DATE\"]).show(5)"
   ]
  },
  {
   "cell_type": "code",
   "execution_count": null,
   "metadata": {},
   "outputs": [],
   "source": [
    "#data = df.groupBy('Year').count().show()\n",
    "chicago_data =df.groupBy('Year').count().sort('Year').collect()\n",
    "chicago_count = [item[1] for item in chicago_data]\n",
    "chicago_year = [item[0] for item in chicago_data]\n",
    "chicago_data"
   ]
  },
  {
   "cell_type": "code",
   "execution_count": null,
   "metadata": {},
   "outputs": [],
   "source": [
    "#data = df.groupBy('Year').count().show()\n",
    "boston_data =dg.groupBy('Year').count().sort('Year').collect()\n",
    "boston_count = [item[1] for item in boston_data]\n",
    "boston_year = [item[0] for item in boston_data]\n",
    "boston_data"
   ]
  },
  {
   "cell_type": "code",
   "execution_count": null,
   "metadata": {
    "scrolled": false
   },
   "outputs": [],
   "source": [
    "%matplotlib inline\n",
    "import matplotlib.pyplot as plt\n",
    "import numpy as np\n",
    "\n",
    "y_axis = [i for i in boston_count] \n",
    "x_axis= [i for i in chicago_count]\n",
    "#z_axis = [i for i in boston_count]\n",
    "\n",
    "fig = plt.figure(figsize=(18,10))\n",
    "plt.title('Comparing number of crimes per year in Boston and Chicago from 2012 to 2019', fontsize=24)\n",
    "#print(x_axis)\n",
    "#print(y_axis)\n",
    "#print(y_axis[14:])\n",
    "data = [x_axis[11:],y_axis]\n",
    "\n",
    "d = [2012,2013,2014,2015,2016,2017,2018,2019]\n",
    "years = ['2012','2013','2014','2015','2016','2017','2018','2019']\n",
    "X = np.arange(len(years))\n",
    "plt.bar(X - 0.15, data[0], color = '#003f5c', width = 0.3,label='chicago')\n",
    "plt.bar(X + 0.15, data[1], color = '#58508d', width = 0.3,label='boston')\n",
    "ax = plt.gca()\n",
    "ax.legend(shadow=True)\n",
    "plt.xticks(X,(years))\n",
    "\n",
    "# Show the major grid lines with dark grey lines\n",
    "plt.grid(b=True, which='major', color='#666666', linestyle='-')\n",
    "\n",
    "# Show the minor grid lines with very faint and almost transparent grey lines\n",
    "plt.minorticks_on()\n",
    "plt.grid(b=True, which='minor', color='#999999', linestyle='-', alpha=0.2)\n",
    "\n",
    "plt.show()"
   ]
  },
  {
   "cell_type": "code",
   "execution_count": null,
   "metadata": {
    "scrolled": false
   },
   "outputs": [],
   "source": [
    "#data = df.groupBy('Year').count().show()\n",
    "boston_data =dg.groupBy('MONTH').count().sort('MONTH').collect()\n",
    "boston_month_count = [item[1] for item in boston_data]\n",
    "boston_month = [item[0] for item in boston_data]\n",
    "boston_data"
   ]
  },
  {
   "cell_type": "code",
   "execution_count": null,
   "metadata": {
    "scrolled": false
   },
   "outputs": [],
   "source": [
    "from pyspark.sql.functions import month\n",
    "chicago_monthdf = df.withColumn(\"Month\",month('Date_time'))\n",
    "chicago_month_count = chicago_monthdf.select(\"Month\").where(chicagocrimes['Year'] >= 2015).groupBy(\"Month\").count()\n",
    "chicago_month_count = chicago_month_count.collect()\n",
    "chicago_month_count"
   ]
  },
  {
   "cell_type": "code",
   "execution_count": null,
   "metadata": {},
   "outputs": [],
   "source": [
    "chicago_month_count.sort()\n",
    "chicago_months = [item[0] for item in chicago_month_count]\n",
    "chicago_month_counts = [item[1] for item in chicago_month_count]\n",
    "chicago_month_count"
   ]
  },
  {
   "cell_type": "code",
   "execution_count": null,
   "metadata": {},
   "outputs": [],
   "source": []
  },
  {
   "cell_type": "code",
   "execution_count": null,
   "metadata": {
    "scrolled": false
   },
   "outputs": [],
   "source": [
    "x_axis = [i for i in boston_month_count] \n",
    "y_axis= [i for i in chicago_month_counts]\n",
    "#z_axis = [i for i in boston_count]\n",
    "\n",
    "fig = plt.figure(figsize=(10,8))\n",
    "plt.title('Comparing number of crimes per month in Boston and Chicago from 2012 to 2019', fontsize=24)\n",
    "print(x_axis)\n",
    "print(y_axis)\n",
    "print(y_axis[11:])\n",
    "data = [x_axis,y_axis]\n",
    "\n",
    "d = [2015,2016,2017,2018,2019]\n",
    "years = ['2012','2013','2014','2015','2016','2017','2018','2019']\n",
    "X = np.arange(12)\n",
    "plt.plot(X + 0.00, data[0], color = 'green',linewidth = 3, label='boston')\n",
    "plt.plot(X + 0.00, data[1], color = 'red',linewidth = 3, label='chicago')\n",
    "ax = plt.gca()\n",
    "ax.legend(shadow=True)\n",
    "\n",
    "# Show the major grid lines with dark grey lines\n",
    "plt.grid(b=True, which='major', color='#666666', linestyle='-')\n",
    "\n",
    "# Show the minor grid lines with very faint and almost transparent grey lines\n",
    "plt.minorticks_on()\n",
    "plt.grid(b=True, which='minor', color='#999999', linestyle='-', alpha=0.2)\n",
    "\n",
    "plt.show()"
   ]
  },
  {
   "cell_type": "code",
   "execution_count": null,
   "metadata": {},
   "outputs": [],
   "source": [
    "x_axis = [i for i in boston_month_count] \n",
    "y_axis= [i for i in chicago_month_counts]"
   ]
  },
  {
   "cell_type": "code",
   "execution_count": null,
   "metadata": {
    "scrolled": false
   },
   "outputs": [],
   "source": [
    "crime_location  = chicagocrimes.groupBy(\"LocationDescription\").count().sort('count', ascending  = False).limit(20).collect()\n",
    "crime_location"
   ]
  },
  {
   "cell_type": "code",
   "execution_count": null,
   "metadata": {
    "scrolled": true
   },
   "outputs": [],
   "source": [
    "location = [item[0] for item in crime_location]\n",
    "count = [item[1] for item in crime_location]\n",
    "location"
   ]
  },
  {
   "cell_type": "code",
   "execution_count": null,
   "metadata": {},
   "outputs": [],
   "source": [
    "x_axis = [i for i in location] \n",
    "y_axis= [i for i in count]\n",
    "\n",
    "fig = plt.figure(figsize=(20,20))\n",
    "fig.suptitle('Chigago Number of Crimes Per year', fontsize=36)\n",
    " \n",
    "plt.xlabel(\"Number of Crimes\", fontsize = 28)\n",
    "plt.ylabel(\"Crimes Location\", fontsize = 28)\n",
    "plt.barh(x_axis,y_axis,color = \"red\")\n",
    "plt.xticks(size = 24)\n",
    "plt.yticks(size = 24)\n",
    "plt.show()"
   ]
  },
  {
   "cell_type": "code",
   "execution_count": null,
   "metadata": {
    "scrolled": false
   },
   "outputs": [],
   "source": [
    "crime_long_lat  = bostoncrimes.groupBy(\"Lat\",\"Long\").count().sort('count', ascending  = False).limit(50).collect()\n",
    "crime_long_lat.pop(0)\n",
    "map_location = [[item[0],item[1],item[2]] for item in crime_long_lat]\n",
    "long_lat=[[item[0],item[1]] for item in map_location]       \n",
    "long_lat.pop(0)\n",
    "count=[item[2] for item in map_location]\n",
    "map_location"
   ]
  },
  {
   "cell_type": "code",
   "execution_count": null,
   "metadata": {},
   "outputs": [],
   "source": [
    "_long_lat  = chicagocrimes.groupBy(\"Latitude\",\"Longitude\").count().sort('count', ascending  = False).limit(50).collect()\n",
    "_long_lat.pop(0)\n",
    "_location = [[item[0],item[1],item[2]] for item in _long_lat]\n",
    "coordinates=[[item[0],item[1]] for item in _location]       \n",
    "coordinates.pop(0)\n",
    "count=[item[2] for item in _location]\n",
    "_location"
   ]
  },
  {
   "cell_type": "code",
   "execution_count": null,
   "metadata": {
    "scrolled": false
   },
   "outputs": [],
   "source": [
    "import folium\n",
    "from folium.plugins import HeatMap\n",
    "first_map = folium.Map(location=[42.355300, -71.055280], zoom_start=5)\n",
    "test = HeatMap(crime_long_lat,name=None, min_opacity=0.5, max_zoom=18, max_val=1.0, radius=25, blur=10, gradient=None, overlay=True, control=True, show=True).add_to(first_map)\n",
    "test1 = HeatMap(_long_lat,name=None, min_opacity=0.5, max_zoom=18, max_val=1.0, radius=25, blur=10, gradient=None, overlay=True, control=True, show=True).add_to(first_map)\n",
    "first_map"
   ]
  },
  {
   "cell_type": "code",
   "execution_count": null,
   "metadata": {},
   "outputs": [],
   "source": [
    "from datetime import datetime\n",
    "from pyspark.sql.functions import col,udf\n",
    "myfunc =  udf(lambda x: datetime.strptime(x, '%Y %I'), TimestampType())"
   ]
  },
  {
   "cell_type": "code",
   "execution_count": null,
   "metadata": {},
   "outputs": [],
   "source": [
    "db =bostonIncome.withColumn('Date_time',myfunc(col('Year')))\n",
    "dc =chicagoIncome.withColumn('Date_time',myfunc(col('Year')))\n",
    "ddb =bostonIncome.withColumn('',myfunc(col('Year')))\n",
    "db"
   ]
  },
  {
   "cell_type": "code",
   "execution_count": null,
   "metadata": {
    "scrolled": false
   },
   "outputs": [],
   "source": [
    "boston_income_data =db.groupBy('Year').sum(\"Income\").sort('Year').collect()\n",
    "db.registerTempTable(\"income\")\n",
    "#boston_income_data = sqlContext.sql(\"SELECT year, slug, Income FROM income WHERE slug LIKE 'boston%'\").groupBy('Year').sum('Income').sort('Year').collect()\n",
    "boston_income_count = [item[1] for item in boston_income_data]\n",
    "boston_incoem_year = [item[0] for item in boston_income_data]\n",
    "boston_income_data"
   ]
  },
  {
   "cell_type": "code",
   "execution_count": null,
   "metadata": {},
   "outputs": [],
   "source": [
    "chicago_income_data =dc.groupBy('Year').sum('Income').sort('Year').collect()\n",
    "chicago_income_count = [item[1] for item in chicago_income_data]\n",
    "chicago_income_year = [item[0] for item in chicago_income_data]\n",
    "chicago_income_data"
   ]
  },
  {
   "cell_type": "code",
   "execution_count": null,
   "metadata": {
    "scrolled": false
   },
   "outputs": [],
   "source": [
    "chicago_income_count"
   ]
  },
  {
   "cell_type": "code",
   "execution_count": null,
   "metadata": {},
   "outputs": [],
   "source": [
    "chicagoIncome.columns"
   ]
  },
  {
   "cell_type": "code",
   "execution_count": null,
   "metadata": {},
   "outputs": [],
   "source": [
    "%matplotlib inline\n",
    "import matplotlib.pyplot as plt\n",
    "import numpy as np\n",
    "\n",
    "y_axis = [i for i in boston_income_count] \n",
    "x_axis= [i for i in chicago_income_count]\n",
    "chicago_income_count[0] - boston_income_count[0]"
   ]
  },
  {
   "cell_type": "code",
   "execution_count": null,
   "metadata": {},
   "outputs": [],
   "source": [
    "data = [x_axis,y_axis]\n",
    "\n",
    "fig = plt.figure(figsize=(18,10))\n",
    "plt.title('Comparing income per year in Boston and Chicago from 2013 to 2017', fontsize=24)\n",
    "\n",
    "#bars = np.add(x_axis, y_axis).tolist()\n",
    "\n",
    "\n",
    "\n",
    " \n",
    "# Names of group and bar width\n",
    "names = ['2013','2014','2015','2016','2017']\n",
    "#barWidth = 0.25\n",
    "X = np.arange(len(names))\n",
    "plt.bar(X - 0.15, data[0], color = '#003f5c', width = 0.3,label='chicago')\n",
    "plt.bar(X + 0.15, data[1], color = '#58508d', width = 0.3,label='boston')\n",
    "# Create green bars (top)\n",
    "#plt.bar(r, bars3, bottom=bars, color='#2d7f5e', edgecolor='white', width=barWidth)\n",
    " \n",
    "ax = plt.gca()\n",
    "ax.set_ylim(min(data[0]) - min(data[1]), max(data[0]) + (max(data[0]) - max(data[1])))\n",
    "ax.legend(shadow=True)\n",
    "    \n",
    "# Custom X axis\n",
    "plt.xticks(X, names, fontweight='bold')\n",
    "plt.xlabel(\"year\")\n",
    "plt.ylabel(\"income per year\")\n",
    "\n",
    "# Show the major grid lines with dark grey lines\n",
    "plt.grid(b=True, which='major', color='#666666', linestyle='-')\n",
    "\n",
    "# Show the minor grid lines with very faint and almost transparent grey lines\n",
    "plt.minorticks_on()\n",
    "plt.grid(b=True, which='minor', color='#999999', linestyle='-', alpha=0.2)\n",
    "\n",
    "\n",
    "# Show graphic\n",
    "plt.show()"
   ]
  },
  {
   "cell_type": "code",
   "execution_count": null,
   "metadata": {},
   "outputs": [],
   "source": []
  },
  {
   "cell_type": "code",
   "execution_count": null,
   "metadata": {},
   "outputs": [],
   "source": []
  },
  {
   "cell_type": "code",
   "execution_count": null,
   "metadata": {},
   "outputs": [],
   "source": []
  },
  {
   "cell_type": "code",
   "execution_count": null,
   "metadata": {},
   "outputs": [],
   "source": []
  },
  {
   "cell_type": "code",
   "execution_count": null,
   "metadata": {},
   "outputs": [],
   "source": []
  }
 ],
 "metadata": {
  "kernelspec": {
   "display_name": "Python 3",
   "language": "python",
   "name": "python3"
  },
  "language_info": {
   "codemirror_mode": {
    "name": "ipython",
    "version": 3
   },
   "file_extension": ".py",
   "mimetype": "text/x-python",
   "name": "python",
   "nbconvert_exporter": "python",
   "pygments_lexer": "ipython3",
   "version": "3.7.3"
  }
 },
 "nbformat": 4,
 "nbformat_minor": 2
}
